{
 "cells": [
  {
   "cell_type": "code",
   "execution_count": 1,
   "metadata": {},
   "outputs": [
    {
     "name": "stderr",
     "output_type": "stream",
     "text": [
      "Failed to detect the name of this notebook, you can set it manually with the WANDB_NOTEBOOK_NAME environment variable to enable code saving.\n",
      "\u001b[34m\u001b[1mwandb\u001b[0m: Currently logged in as: \u001b[33marunpandian7\u001b[0m (use `wandb login --relogin` to force relogin)\n"
     ]
    },
    {
     "data": {
      "text/plain": [
       "True"
      ]
     },
     "execution_count": 1,
     "metadata": {},
     "output_type": "execute_result"
    }
   ],
   "source": [
    "import wandb\n",
    "\n",
    "wandb.login()"
   ]
  },
  {
   "cell_type": "code",
   "execution_count": 2,
   "metadata": {},
   "outputs": [
    {
     "data": {
      "image/png": "[encoded data removed]",
      "text/plain": [
       "<Figure size 504x72 with 1 Axes>"
      ]
     },
     "metadata": {
      "needs_background": "light"
     },
     "output_type": "display_data"
    }
   ],
   "source": [
    "import os\n",
    "import gc\n",
    "\n",
    "\n",
    "import ast\n",
    "import cv2\n",
    "import numpy as np\n",
    "import pandas as pd\n",
    "from tqdm import tqdm\n",
    "import matplotlib as mpl\n",
    "import matplotlib.pyplot as plt\n",
    "import seaborn as sns\n",
    "\n",
    "from utils import show_values_on_bars\n",
    "%matplotlib inline\n",
    "\n",
    "\n",
    "# Custom colors\n",
    "my_colors = [\"#E97777\", \"#E9B077\", \"#E9E977\", \n",
    "             \"#77E977\", \"#7777E9\", \"#6F6BAC\", \"#B677E9\"]\n",
    "sns.palplot(sns.color_palette(my_colors))\n",
    "\n",
    "# Set Style\n",
    "sns.set_style(\"white\")\n",
    "mpl.rcParams['xtick.labelsize'] = 18\n",
    "mpl.rcParams['ytick.labelsize'] = 18\n",
    "mpl.rcParams['axes.spines.left'] = False\n",
    "mpl.rcParams['axes.spines.right'] = False\n",
    "mpl.rcParams['axes.spines.top'] = False\n",
    "plt.rcParams.update({'font.size': 22})\n",
    "\n",
    "class color:\n",
    "    BOLD = '\\033[1m' + '\\033[93m'\n",
    "    END = '\\033[0m'"
   ]
  },
  {
   "cell_type": "code",
   "execution_count": 3,
   "metadata": {},
   "outputs": [],
   "source": [
    "DATA_DIR = \"./dataset/resized-256/train/\"\n",
    "IMG_SIZE = 256\n",
    "NUM_SAMPLES_TO_SELECT = 32"
   ]
  },
  {
   "cell_type": "code",
   "execution_count": 4,
   "metadata": {},
   "outputs": [
    {
     "data": {
      "text/html": [
       "<div>\n",
       "<style scoped>\n",
       "    .dataframe tbody tr th:only-of-type {\n",
       "        vertical-align: middle;\n",
       "    }\n",
       "\n",
       "    .dataframe tbody tr th {\n",
       "        vertical-align: top;\n",
       "    }\n",
       "\n",
       "    .dataframe thead th {\n",
       "        text-align: right;\n",
       "    }\n",
       "</style>\n",
       "<table border=\"1\" class=\"dataframe\">\n",
       "  <thead>\n",
       "    <tr style=\"text-align: right;\">\n",
       "      <th></th>\n",
       "      <th>id</th>\n",
       "      <th>boxes</th>\n",
       "      <th>label</th>\n",
       "      <th>StudyInstanceUID</th>\n",
       "      <th>path</th>\n",
       "      <th>image_level</th>\n",
       "      <th>Negative for Pneumonia</th>\n",
       "      <th>Typical Appearance</th>\n",
       "      <th>Indeterminate Appearance</th>\n",
       "      <th>Atypical Appearance</th>\n",
       "    </tr>\n",
       "  </thead>\n",
       "  <tbody>\n",
       "    <tr>\n",
       "      <th>0</th>\n",
       "      <td>000a312787f2</td>\n",
       "      <td>[{'x': 789.28836, 'y': 582.43035, 'width': 102...</td>\n",
       "      <td>opacity 1 789.28836 582.43035 1815.94498 2499....</td>\n",
       "      <td>5776db0cec75</td>\n",
       "      <td>./dataset/resized-256/train/000a312787f2.jpg</td>\n",
       "      <td>opacity</td>\n",
       "      <td>0</td>\n",
       "      <td>1</td>\n",
       "      <td>0</td>\n",
       "      <td>0</td>\n",
       "    </tr>\n",
       "    <tr>\n",
       "      <th>1</th>\n",
       "      <td>000c3a3f293f</td>\n",
       "      <td>NaN</td>\n",
       "      <td>none 1 0 0 1 1</td>\n",
       "      <td>ff0879eb20ed</td>\n",
       "      <td>./dataset/resized-256/train/000c3a3f293f.jpg</td>\n",
       "      <td>none</td>\n",
       "      <td>1</td>\n",
       "      <td>0</td>\n",
       "      <td>0</td>\n",
       "      <td>0</td>\n",
       "    </tr>\n",
       "  </tbody>\n",
       "</table>\n",
       "</div>"
      ],
      "text/plain": [
       "             id                                              boxes  \\\n",
       "0  000a312787f2  [{'x': 789.28836, 'y': 582.43035, 'width': 102...   \n",
       "1  000c3a3f293f                                                NaN   \n",
       "\n",
       "                                               label StudyInstanceUID  \\\n",
       "0  opacity 1 789.28836 582.43035 1815.94498 2499....     5776db0cec75   \n",
       "1                                     none 1 0 0 1 1     ff0879eb20ed   \n",
       "\n",
       "                                           path image_level  \\\n",
       "0  ./dataset/resized-256/train/000a312787f2.jpg     opacity   \n",
       "1  ./dataset/resized-256/train/000c3a3f293f.jpg        none   \n",
       "\n",
       "   Negative for Pneumonia  Typical Appearance  Indeterminate Appearance  \\\n",
       "0                       0                   1                         0   \n",
       "1                       1                   0                         0   \n",
       "\n",
       "   Atypical Appearance  \n",
       "0                    0  \n",
       "1                    0  "
      ]
     },
     "execution_count": 4,
     "metadata": {},
     "output_type": "execute_result"
    }
   ],
   "source": [
    "train_image_df = pd.read_csv(\"./dataset/train_image_level.csv\")\n",
    "\n",
    "train_label_df = pd.read_csv(\"./dataset/train_study_level.csv\")\n",
    "\n",
    "# Modify values in the id column\n",
    "train_image_df['id'] = train_image_df.apply(lambda row: row.id.split('_')[0], axis=1)\n",
    "# Add absolute path\n",
    "train_image_df['path'] = train_image_df.apply(lambda row: DATA_DIR+row.id+'.jpg', axis=1)\n",
    "# Get image level labels\n",
    "train_image_df['image_level'] = train_image_df.apply(lambda row: row.label.split(' ')[0], axis=1)\n",
    "\n",
    "# Modify values in the id column\n",
    "train_label_df['id'] = train_label_df.apply(lambda row: row.id.split('_')[0], axis=1)\n",
    "# Rename the column id with StudyInstanceUID\n",
    "train_label_df.columns = ['StudyInstanceUID', 'Negative for Pneumonia', 'Typical Appearance', 'Indeterminate Appearance', 'Atypical Appearance']\n",
    "\n",
    "# Merge both dataframes\n",
    "train_image_df = train_image_df.merge(train_label_df, on='StudyInstanceUID',how=\"left\")\n",
    "train_image_df.head(2)"
   ]
  },
  {
   "cell_type": "code",
   "execution_count": 5,
   "metadata": {},
   "outputs": [
    {
     "name": "stdout",
     "output_type": "stream",
     "text": [
      "Number of unique image in training dataset: 6334\n",
      "Number of images without any bbox annotation: 2040\n"
     ]
    }
   ],
   "source": [
    "print(f'Number of unique image in training dataset: {len(train_image_df)}')\n",
    "\n",
    "bbox_nan_num = train_image_df['boxes'].isna().sum()\n",
    "print(f'Number of images without any bbox annotation: {bbox_nan_num}')"
   ]
  },
  {
   "cell_type": "code",
   "execution_count": 6,
   "metadata": {},
   "outputs": [
    {
     "data": {
      "text/html": [
       "<div>\n",
       "<style scoped>\n",
       "    .dataframe tbody tr th:only-of-type {\n",
       "        vertical-align: middle;\n",
       "    }\n",
       "\n",
       "    .dataframe tbody tr th {\n",
       "        vertical-align: top;\n",
       "    }\n",
       "\n",
       "    .dataframe thead th {\n",
       "        text-align: right;\n",
       "    }\n",
       "</style>\n",
       "<table border=\"1\" class=\"dataframe\">\n",
       "  <thead>\n",
       "    <tr style=\"text-align: right;\">\n",
       "      <th></th>\n",
       "      <th>id</th>\n",
       "      <th>boxes</th>\n",
       "      <th>label</th>\n",
       "      <th>StudyInstanceUID</th>\n",
       "      <th>path</th>\n",
       "      <th>image_level</th>\n",
       "      <th>Negative for Pneumonia</th>\n",
       "      <th>Typical Appearance</th>\n",
       "      <th>Indeterminate Appearance</th>\n",
       "      <th>Atypical Appearance</th>\n",
       "      <th>study_level</th>\n",
       "    </tr>\n",
       "  </thead>\n",
       "  <tbody>\n",
       "    <tr>\n",
       "      <th>0</th>\n",
       "      <td>000a312787f2</td>\n",
       "      <td>[{'x': 789.28836, 'y': 582.43035, 'width': 102...</td>\n",
       "      <td>opacity 1 789.28836 582.43035 1815.94498 2499....</td>\n",
       "      <td>5776db0cec75</td>\n",
       "      <td>./dataset/resized-256/train/000a312787f2.jpg</td>\n",
       "      <td>opacity</td>\n",
       "      <td>0</td>\n",
       "      <td>1</td>\n",
       "      <td>0</td>\n",
       "      <td>0</td>\n",
       "      <td>1</td>\n",
       "    </tr>\n",
       "    <tr>\n",
       "      <th>1</th>\n",
       "      <td>000c3a3f293f</td>\n",
       "      <td>NaN</td>\n",
       "      <td>none 1 0 0 1 1</td>\n",
       "      <td>ff0879eb20ed</td>\n",
       "      <td>./dataset/resized-256/train/000c3a3f293f.jpg</td>\n",
       "      <td>none</td>\n",
       "      <td>1</td>\n",
       "      <td>0</td>\n",
       "      <td>0</td>\n",
       "      <td>0</td>\n",
       "      <td>0</td>\n",
       "    </tr>\n",
       "  </tbody>\n",
       "</table>\n",
       "</div>"
      ],
      "text/plain": [
       "             id                                              boxes  \\\n",
       "0  000a312787f2  [{'x': 789.28836, 'y': 582.43035, 'width': 102...   \n",
       "1  000c3a3f293f                                                NaN   \n",
       "\n",
       "                                               label StudyInstanceUID  \\\n",
       "0  opacity 1 789.28836 582.43035 1815.94498 2499....     5776db0cec75   \n",
       "1                                     none 1 0 0 1 1     ff0879eb20ed   \n",
       "\n",
       "                                           path image_level  \\\n",
       "0  ./dataset/resized-256/train/000a312787f2.jpg     opacity   \n",
       "1  ./dataset/resized-256/train/000c3a3f293f.jpg        none   \n",
       "\n",
       "   Negative for Pneumonia  Typical Appearance  Indeterminate Appearance  \\\n",
       "0                       0                   1                         0   \n",
       "1                       1                   0                         0   \n",
       "\n",
       "   Atypical Appearance  study_level  \n",
       "0                    0            1  \n",
       "1                    0            0  "
      ]
     },
     "execution_count": 6,
     "metadata": {},
     "output_type": "execute_result"
    }
   ],
   "source": [
    "# Label encode study-level labels\n",
    "labels = train_image_df[['Negative for Pneumonia','Typical Appearance','Indeterminate Appearance','Atypical Appearance']].values\n",
    "labels = np.argmax(labels, axis=1)\n",
    "\n",
    "train_image_df['study_level'] = labels\n",
    "train_image_df.head(2)"
   ]
  },
  {
   "cell_type": "code",
   "execution_count": 7,
   "metadata": {},
   "outputs": [],
   "source": [
    "class_label_to_id = {\n",
    "    'Negative for Pneumonia': 0,\n",
    "    'Typical Appearance': 1,\n",
    "    'Indeterminate Appearance': 2,\n",
    "    'Atypical Appearance': 3\n",
    "}\n",
    "\n",
    "class_id_to_label = {val: key for key, val in class_label_to_id.items()}"
   ]
  },
  {
   "cell_type": "code",
   "execution_count": 8,
   "metadata": {},
   "outputs": [
    {
     "data": {
      "image/png": "[encoded data removed]",
      "text/plain": [
       "<Figure size 792x720 with 4 Axes>"
      ]
     },
     "metadata": {},
     "output_type": "display_data"
    }
   ],
   "source": [
    "# Data for plots\n",
    "pneumonia = train_image_df[\"Negative for Pneumonia\"]\n",
    "typical = train_image_df[\"Typical Appearance\"]\n",
    "indeterminate = train_image_df[\"Indeterminate Appearance\"]\n",
    "atypical = train_image_df[\"Atypical Appearance\"]\n",
    "\n",
    "# Plotting\n",
    "fig, ((ax1, ax2), (ax3, ax4)) = plt.subplots(2, 2, figsize=(11,10))\n",
    "axs = [ax1, ax2, ax3, ax4]\n",
    "dfs = [pneumonia, typical, indeterminate, atypical]\n",
    "titles = [\"Pneumonia\", \"Typical\", \"Indeterminate\", \"Atypical\"]\n",
    "\n",
    "for ax, df, title in zip(axs, dfs, titles):\n",
    "    sns.countplot(y=df, ax=ax, palette=my_colors[1:])\n",
    "    ax.set_title(title, fontsize=25, weight='bold')\n",
    "    show_values_on_bars(ax, h_v=\"h\", space=0.4)\n",
    "    ax.set_xticklabels([])\n",
    "    ax.set_ylabel('')\n",
    "    ax.set_xlabel('')"
   ]
  },
  {
   "cell_type": "code",
   "execution_count": 9,
   "metadata": {},
   "outputs": [
    {
     "data": {
      "image/png": "[encoded data removed]",
      "text/plain": [
       "<Figure size 1152x720 with 1 Axes>"
      ]
     },
     "metadata": {},
     "output_type": "display_data"
    }
   ],
   "source": [
    "# Get data and transform frequencies to percentages\n",
    "df = train_image_df.groupby(['Negative for Pneumonia', 'Typical Appearance',\n",
    "       'Indeterminate Appearance', 'Atypical Appearance']).count().reset_index()\n",
    "\n",
    "df[\"label\"] = ['Atypical Appearance', 'Indeterminate Appearance',\n",
    "               'Typical Appearance', 'Negative for Pneumonia']\n",
    "df[\"perc\"] = df[\"id\"]/df[\"id\"].sum()*100\n",
    "\n",
    "# Plot\n",
    "bar,ax = plt.subplots(figsize=(16,10))\n",
    "ax = sns.barplot(x=df[\"label\"], y=df[\"perc\"], \n",
    "                 ci=None, palette=my_colors, orient='v')\n",
    "ax.set_title(\"Label % in Total Observations\", fontsize=15,\n",
    "             weight = \"bold\")\n",
    "ax.set_xlabel(\" \")\n",
    "ax.set_ylabel(\"Percentage\")\n",
    "for rect in ax.patches:\n",
    "    ax.text (rect.get_x() + rect.get_width() / 2,rect.get_height(),\n",
    "             \"%.1f%%\"% rect.get_height(), weight='bold')"
   ]
  },
  {
   "cell_type": "code",
   "execution_count": 10,
   "metadata": {},
   "outputs": [
    {
     "data": {
      "text/plain": [
       "Text(0.5, 0, '')"
      ]
     },
     "execution_count": 10,
     "metadata": {},
     "output_type": "execute_result"
    },
    {
     "data": {
      "image/png": "[encoded data removed]",
      "text/plain": [
       "<Figure size 792x720 with 1 Axes>"
      ]
     },
     "metadata": {},
     "output_type": "display_data"
    }
   ],
   "source": [
    "# Data for plotting\n",
    "df = train_image_df[\"label\"].apply(lambda x: x.split(\" \")[0]).\\\n",
    "                                    value_counts().reset_index()\n",
    "\n",
    "# Plot\n",
    "plt.figure(figsize=(11, 10))\n",
    "ax = sns.barplot(data=df, y=\"index\", x=\"label\", palette=my_colors[3:])\n",
    "show_values_on_bars(ax, h_v=\"h\", space=0.3)\n",
    "plt.title(\"How many images have a bounding box present?\", \n",
    "          fontsize=20, weight='bold')\n",
    "plt.xticks([])\n",
    "plt.ylabel('')\n",
    "plt.xlabel('')"
   ]
  },
  {
   "cell_type": "code",
   "execution_count": 11,
   "metadata": {},
   "outputs": [
    {
     "name": "stdout",
     "output_type": "stream",
     "text": [
      "\u001b[1m\u001b[93mMax number of images available per study:\u001b[0m 9 \n",
      "\u001b[1m\u001b[93mMin number of images available per study:\u001b[0m 1 \n",
      "\n",
      "\n"
     ]
    },
    {
     "data": {
      "image/png": "[encoded data removed]",
      "text/plain": [
       "<Figure size 792x432 with 1 Axes>"
      ]
     },
     "metadata": {},
     "output_type": "display_data"
    }
   ],
   "source": [
    "# Crate df\n",
    "df = train_image_df[\"StudyInstanceUID\"].value_counts().reset_index().\\\n",
    "                        sort_values(\"StudyInstanceUID\", ascending=False)\n",
    "print(color.BOLD + \"Max number of images available per study:\" + color.END, \n",
    "      df[\"StudyInstanceUID\"].max(), \"\\n\" +\n",
    "      color.BOLD + \"Min number of images available per study:\" + color.END, \n",
    "      df[\"StudyInstanceUID\"].min(), 2*\"\\n\")\n",
    "# Plot\n",
    "plt.figure(figsize=(11, 6))\n",
    "sns.distplot(a=df[\"StudyInstanceUID\"], color=my_colors[6], \n",
    "             hist=False, kde_kws=dict(lw=5, ls=\"-\"))\n",
    "plt.title(\"How many images per study?\", \n",
    "          fontsize=15, weight='bold')\n",
    "plt.xticks([])\n",
    "plt.ylabel('Study Frequency')\n",
    "plt.xlabel('Image Ids');"
   ]
  },
  {
   "cell_type": "code",
   "execution_count": 12,
   "metadata": {},
   "outputs": [
    {
     "data": {
      "text/html": [
       "<div>\n",
       "<style scoped>\n",
       "    .dataframe tbody tr th:only-of-type {\n",
       "        vertical-align: middle;\n",
       "    }\n",
       "\n",
       "    .dataframe tbody tr th {\n",
       "        vertical-align: top;\n",
       "    }\n",
       "\n",
       "    .dataframe thead th {\n",
       "        text-align: right;\n",
       "    }\n",
       "</style>\n",
       "<table border=\"1\" class=\"dataframe\">\n",
       "  <thead>\n",
       "    <tr style=\"text-align: right;\">\n",
       "      <th></th>\n",
       "      <th>id</th>\n",
       "      <th>dim0</th>\n",
       "      <th>dim1</th>\n",
       "      <th>split</th>\n",
       "    </tr>\n",
       "  </thead>\n",
       "  <tbody>\n",
       "    <tr>\n",
       "      <th>1263</th>\n",
       "      <td>d8ba599611e5</td>\n",
       "      <td>2336</td>\n",
       "      <td>2836</td>\n",
       "      <td>train</td>\n",
       "    </tr>\n",
       "    <tr>\n",
       "      <th>1264</th>\n",
       "      <td>29b23a11d1e4</td>\n",
       "      <td>3488</td>\n",
       "      <td>4256</td>\n",
       "      <td>train</td>\n",
       "    </tr>\n",
       "  </tbody>\n",
       "</table>\n",
       "</div>"
      ],
      "text/plain": [
       "                id  dim0  dim1  split\n",
       "1263  d8ba599611e5  2336  2836  train\n",
       "1264  29b23a11d1e4  3488  4256  train"
      ]
     },
     "execution_count": 12,
     "metadata": {},
     "output_type": "execute_result"
    }
   ],
   "source": [
    "# Load meta.csv file\n",
    "meta_df = pd.read_csv('./dataset/resized-256/meta.csv')\n",
    "train_meta_df = meta_df.loc[meta_df.split == 'train']\n",
    "train_meta_df.columns = ['id', 'dim0', 'dim1', 'split']\n",
    "train_meta_df.head(2)"
   ]
  },
  {
   "cell_type": "code",
   "execution_count": 13,
   "metadata": {},
   "outputs": [
    {
     "data": {
      "text/html": [
       "<div>\n",
       "<style scoped>\n",
       "    .dataframe tbody tr th:only-of-type {\n",
       "        vertical-align: middle;\n",
       "    }\n",
       "\n",
       "    .dataframe tbody tr th {\n",
       "        vertical-align: top;\n",
       "    }\n",
       "\n",
       "    .dataframe thead th {\n",
       "        text-align: right;\n",
       "    }\n",
       "</style>\n",
       "<table border=\"1\" class=\"dataframe\">\n",
       "  <thead>\n",
       "    <tr style=\"text-align: right;\">\n",
       "      <th></th>\n",
       "      <th>id</th>\n",
       "      <th>boxes</th>\n",
       "      <th>label</th>\n",
       "      <th>StudyInstanceUID</th>\n",
       "      <th>path</th>\n",
       "      <th>image_level</th>\n",
       "      <th>Negative for Pneumonia</th>\n",
       "      <th>Typical Appearance</th>\n",
       "      <th>Indeterminate Appearance</th>\n",
       "      <th>Atypical Appearance</th>\n",
       "      <th>study_level</th>\n",
       "      <th>dim0</th>\n",
       "      <th>dim1</th>\n",
       "      <th>split</th>\n",
       "    </tr>\n",
       "  </thead>\n",
       "  <tbody>\n",
       "    <tr>\n",
       "      <th>0</th>\n",
       "      <td>000a312787f2</td>\n",
       "      <td>[{'x': 789.28836, 'y': 582.43035, 'width': 102...</td>\n",
       "      <td>opacity 1 789.28836 582.43035 1815.94498 2499....</td>\n",
       "      <td>5776db0cec75</td>\n",
       "      <td>./dataset/resized-256/train/000a312787f2.jpg</td>\n",
       "      <td>opacity</td>\n",
       "      <td>0</td>\n",
       "      <td>1</td>\n",
       "      <td>0</td>\n",
       "      <td>0</td>\n",
       "      <td>1</td>\n",
       "      <td>3488</td>\n",
       "      <td>4256</td>\n",
       "      <td>train</td>\n",
       "    </tr>\n",
       "    <tr>\n",
       "      <th>1</th>\n",
       "      <td>000c3a3f293f</td>\n",
       "      <td>NaN</td>\n",
       "      <td>none 1 0 0 1 1</td>\n",
       "      <td>ff0879eb20ed</td>\n",
       "      <td>./dataset/resized-256/train/000c3a3f293f.jpg</td>\n",
       "      <td>none</td>\n",
       "      <td>1</td>\n",
       "      <td>0</td>\n",
       "      <td>0</td>\n",
       "      <td>0</td>\n",
       "      <td>0</td>\n",
       "      <td>2320</td>\n",
       "      <td>2832</td>\n",
       "      <td>train</td>\n",
       "    </tr>\n",
       "    <tr>\n",
       "      <th>2</th>\n",
       "      <td>0012ff7358bc</td>\n",
       "      <td>[{'x': 677.42216, 'y': 197.97662, 'width': 867...</td>\n",
       "      <td>opacity 1 677.42216 197.97662 1545.21983 1197....</td>\n",
       "      <td>9d514ce429a7</td>\n",
       "      <td>./dataset/resized-256/train/0012ff7358bc.jpg</td>\n",
       "      <td>opacity</td>\n",
       "      <td>0</td>\n",
       "      <td>1</td>\n",
       "      <td>0</td>\n",
       "      <td>0</td>\n",
       "      <td>1</td>\n",
       "      <td>2544</td>\n",
       "      <td>3056</td>\n",
       "      <td>train</td>\n",
       "    </tr>\n",
       "    <tr>\n",
       "      <th>3</th>\n",
       "      <td>001398f4ff4f</td>\n",
       "      <td>[{'x': 2729, 'y': 2181.33331, 'width': 948.000...</td>\n",
       "      <td>opacity 1 2729 2181.33331 3677.00012 2785.33331</td>\n",
       "      <td>28dddc8559b2</td>\n",
       "      <td>./dataset/resized-256/train/001398f4ff4f.jpg</td>\n",
       "      <td>opacity</td>\n",
       "      <td>0</td>\n",
       "      <td>0</td>\n",
       "      <td>0</td>\n",
       "      <td>1</td>\n",
       "      <td>3</td>\n",
       "      <td>3520</td>\n",
       "      <td>4280</td>\n",
       "      <td>train</td>\n",
       "    </tr>\n",
       "    <tr>\n",
       "      <th>4</th>\n",
       "      <td>001bd15d1891</td>\n",
       "      <td>[{'x': 623.23328, 'y': 1050, 'width': 714, 'he...</td>\n",
       "      <td>opacity 1 623.23328 1050 1337.23328 2156 opaci...</td>\n",
       "      <td>dfd9fdd85a3e</td>\n",
       "      <td>./dataset/resized-256/train/001bd15d1891.jpg</td>\n",
       "      <td>opacity</td>\n",
       "      <td>0</td>\n",
       "      <td>1</td>\n",
       "      <td>0</td>\n",
       "      <td>0</td>\n",
       "      <td>1</td>\n",
       "      <td>2800</td>\n",
       "      <td>3408</td>\n",
       "      <td>train</td>\n",
       "    </tr>\n",
       "  </tbody>\n",
       "</table>\n",
       "</div>"
      ],
      "text/plain": [
       "             id                                              boxes  \\\n",
       "0  000a312787f2  [{'x': 789.28836, 'y': 582.43035, 'width': 102...   \n",
       "1  000c3a3f293f                                                NaN   \n",
       "2  0012ff7358bc  [{'x': 677.42216, 'y': 197.97662, 'width': 867...   \n",
       "3  001398f4ff4f  [{'x': 2729, 'y': 2181.33331, 'width': 948.000...   \n",
       "4  001bd15d1891  [{'x': 623.23328, 'y': 1050, 'width': 714, 'he...   \n",
       "\n",
       "                                               label StudyInstanceUID  \\\n",
       "0  opacity 1 789.28836 582.43035 1815.94498 2499....     5776db0cec75   \n",
       "1                                     none 1 0 0 1 1     ff0879eb20ed   \n",
       "2  opacity 1 677.42216 197.97662 1545.21983 1197....     9d514ce429a7   \n",
       "3    opacity 1 2729 2181.33331 3677.00012 2785.33331     28dddc8559b2   \n",
       "4  opacity 1 623.23328 1050 1337.23328 2156 opaci...     dfd9fdd85a3e   \n",
       "\n",
       "                                           path image_level  \\\n",
       "0  ./dataset/resized-256/train/000a312787f2.jpg     opacity   \n",
       "1  ./dataset/resized-256/train/000c3a3f293f.jpg        none   \n",
       "2  ./dataset/resized-256/train/0012ff7358bc.jpg     opacity   \n",
       "3  ./dataset/resized-256/train/001398f4ff4f.jpg     opacity   \n",
       "4  ./dataset/resized-256/train/001bd15d1891.jpg     opacity   \n",
       "\n",
       "   Negative for Pneumonia  Typical Appearance  Indeterminate Appearance  \\\n",
       "0                       0                   1                         0   \n",
       "1                       1                   0                         0   \n",
       "2                       0                   1                         0   \n",
       "3                       0                   0                         0   \n",
       "4                       0                   1                         0   \n",
       "\n",
       "   Atypical Appearance  study_level  dim0  dim1  split  \n",
       "0                    0            1  3488  4256  train  \n",
       "1                    0            0  2320  2832  train  \n",
       "2                    0            1  2544  3056  train  \n",
       "3                    1            3  3520  4280  train  \n",
       "4                    0            1  2800  3408  train  "
      ]
     },
     "execution_count": 13,
     "metadata": {},
     "output_type": "execute_result"
    }
   ],
   "source": [
    "train_image_df = train_image_df.merge(train_meta_df, on='id',how=\"left\")\n",
    "train_image_df.head(5)"
   ]
  },
  {
   "cell_type": "code",
   "execution_count": 14,
   "metadata": {},
   "outputs": [],
   "source": [
    "# Since there are over 2000 rows without bounding box coordinates.\n",
    "opacity_df = train_image_df.dropna(subset = [\"boxes\"], inplace=False)\n",
    "opacity_df = opacity_df.reset_index(drop=True)"
   ]
  },
  {
   "cell_type": "code",
   "execution_count": 18,
   "metadata": {},
   "outputs": [
    {
     "data": {
      "text/html": [
       "\n",
       "                    Syncing run <strong><a href=\"https://wandb.ai/arunpandian7/covid-project/runs/2gjhergx\" target=\"_blank\">bbox_visualizing</a></strong> to <a href=\"https://wandb.ai/arunpandian7/covid-project\" target=\"_blank\">Weights & Biases</a> (<a href=\"https://docs.wandb.com/integrations/jupyter.html\" target=\"_blank\">docs</a>).<br/>\n",
       "\n",
       "                "
      ],
      "text/plain": [
       "<IPython.core.display.HTML object>"
      ]
     },
     "metadata": {},
     "output_type": "display_data"
    },
    {
     "name": "stderr",
     "output_type": "stream",
     "text": [
      "100%|██████████| 32/32 [00:00<00:00, 43.52it/s]\n"
     ]
    },
    {
     "data": {
      "text/html": [
       "<br/>Waiting for W&B process to finish, PID 44697... <strong style=\"color:green\">(success).</strong>"
      ],
      "text/plain": [
       "<IPython.core.display.HTML object>"
      ]
     },
     "metadata": {},
     "output_type": "display_data"
    },
    {
     "data": {
      "text/html": [
       "<style>\n",
       "    table.wandb td:nth-child(1) { padding: 0 10px; text-align: right }\n",
       "    .wandb-row { display: flex; flex-direction: row; flex-wrap: wrap; width: 100% }\n",
       "    .wandb-col { display: flex; flex-direction: column; flex-basis: 100%; flex: 1; padding: 10px; }\n",
       "    </style>\n",
       "<div class=\"wandb-row\"><div class=\"wandb-col\">\n",
       "</div><div class=\"wandb-col\">\n",
       "</div></div>\n",
       "Synced 5 W&B file(s), 64 media file(s), 0 artifact file(s) and 0 other file(s)\n",
       "<br/>Synced <strong style=\"color:#cdcd00\">bbox_visualizing</strong>: <a href=\"https://wandb.ai/arunpandian7/covid-project/runs/2gjhergx\" target=\"_blank\">https://wandb.ai/arunpandian7/covid-project/runs/2gjhergx</a><br/>\n",
       "Find logs at: <code>./wandb/run-20220218_123146-2gjhergx/logs</code><br/>\n"
      ],
      "text/plain": [
       "<IPython.core.display.HTML object>"
      ]
     },
     "metadata": {},
     "output_type": "display_data"
    },
    {
     "data": {
      "text/html": [
       "<button onClick=\"this.nextSibling.style.display='block';this.style.display='none';\">Display W&B run</button><iframe src=\"https://wandb.ai/arunpandian7/covid-project/runs/2gjhergx?jupyter=true\" style=\"border:none;width:100%;height:420px;display:none;\"></iframe>"
      ],
      "text/plain": [
       "<wandb.sdk.wandb_run.Run at 0x7f6d81104400>"
      ]
     },
     "execution_count": 18,
     "metadata": {},
     "output_type": "execute_result"
    }
   ],
   "source": [
    "from utils import scale_bbox, wandb_bbox, get_bbox\n",
    "\n",
    "sampled_df = opacity_df.sample(NUM_SAMPLES_TO_SELECT).reset_index(drop=True)\n",
    "\n",
    "run = wandb.init(project='covid-project', \n",
    "                 config={'competition': 'siim-fisabio-rsna', '_wandb_kernel': 'arunrk7'},\n",
    "                 job_type='visualize_sample_bbox',\n",
    "                 name=\"bbox_visualizing\")\n",
    "\n",
    "wandb_bbox_list = []\n",
    "for i in tqdm(range(NUM_SAMPLES_TO_SELECT)):\n",
    "    row = sampled_df.loc[i]\n",
    "    # Load image\n",
    "    image = cv2.imread(row.path)\n",
    "    # Get bboxes\n",
    "    bboxes = get_bbox(row)\n",
    "    # Scale bounding boxes\n",
    "    scale_bboxes = scale_bbox(IMG_SIZE, row, bboxes)\n",
    "    # Get ground truth label\n",
    "    true_label = row.study_level\n",
    "    \n",
    "    wandb_bbox_list.append(wandb_bbox(image, \n",
    "                                      scale_bboxes, \n",
    "                                      true_label, \n",
    "                                      class_id_to_label))\n",
    "    \n",
    "wandb.log({\"radiograph\": wandb_bbox_list})\n",
    "\n",
    "run.finish()\n",
    "\n",
    "run"
   ]
  },
  {
   "cell_type": "code",
   "execution_count": 19,
   "metadata": {},
   "outputs": [],
   "source": [
    "# W&B image\n",
    "def wandb_bbox(image, bboxes, true_label, class_id_to_label, class_set):\n",
    "    all_boxes = []\n",
    "    for bbox in bboxes:\n",
    "        box_data = {\"position\": {\n",
    "                        \"minX\": bbox[0],\n",
    "                        \"minY\": bbox[1],\n",
    "                        \"maxX\": bbox[2],\n",
    "                        \"maxY\": bbox[3]\n",
    "                    },\n",
    "                     \"class_id\" : int(true_label),\n",
    "                     \"box_caption\": class_id_to_label[true_label],\n",
    "                     \"domain\" : \"pixel\"}\n",
    "        all_boxes.append(box_data)\n",
    "    \n",
    "\n",
    "    return wandb.Image(image, boxes={\n",
    "        \"ground_truth\": {\n",
    "            \"box_data\": all_boxes,\n",
    "          \"class_labels\": class_id_to_label\n",
    "        }\n",
    "    }, classes=class_set)"
   ]
  },
  {
   "cell_type": "code",
   "execution_count": 22,
   "metadata": {},
   "outputs": [
    {
     "data": {
      "text/html": [
       "Finishing last run (ID:2ut7u37j) before initializing another..."
      ],
      "text/plain": [
       "<IPython.core.display.HTML object>"
      ]
     },
     "metadata": {},
     "output_type": "display_data"
    },
    {
     "data": {
      "text/html": [
       "<br/>Waiting for W&B process to finish, PID 45574... <strong style=\"color:green\">(success).</strong>"
      ],
      "text/plain": [
       "<IPython.core.display.HTML object>"
      ]
     },
     "metadata": {},
     "output_type": "display_data"
    },
    {
     "data": {
      "text/html": [
       "<style>\n",
       "    table.wandb td:nth-child(1) { padding: 0 10px; text-align: right }\n",
       "    .wandb-row { display: flex; flex-direction: row; flex-wrap: wrap; width: 100% }\n",
       "    .wandb-col { display: flex; flex-direction: column; flex-basis: 100%; flex: 1; padding: 10px; }\n",
       "    </style>\n",
       "<div class=\"wandb-row\"><div class=\"wandb-col\">\n",
       "</div><div class=\"wandb-col\">\n",
       "</div></div>\n",
       "Synced 5 W&B file(s), 0 media file(s), 0 artifact file(s) and 0 other file(s)\n",
       "<br/>Synced <strong style=\"color:#cdcd00\">visualizing-table-view</strong>: <a href=\"https://wandb.ai/arunpandian7/covid-project/runs/2ut7u37j\" target=\"_blank\">https://wandb.ai/arunpandian7/covid-project/runs/2ut7u37j</a><br/>\n",
       "Find logs at: <code>./wandb/run-20220218_123740-2ut7u37j/logs</code><br/>\n"
      ],
      "text/plain": [
       "<IPython.core.display.HTML object>"
      ]
     },
     "metadata": {},
     "output_type": "display_data"
    },
    {
     "data": {
      "text/html": [
       "Successfully finished last run (ID:2ut7u37j). Initializing new run:<br/>"
      ],
      "text/plain": [
       "<IPython.core.display.HTML object>"
      ]
     },
     "metadata": {},
     "output_type": "display_data"
    },
    {
     "data": {
      "text/html": [
       "\n",
       "                    Syncing run <strong><a href=\"https://wandb.ai/arunpandian7/covid-project/runs/1j7nyfht\" target=\"_blank\">visualizing-table-view</a></strong> to <a href=\"https://wandb.ai/arunpandian7/covid-project\" target=\"_blank\">Weights & Biases</a> (<a href=\"https://docs.wandb.com/integrations/jupyter.html\" target=\"_blank\">docs</a>).<br/>\n",
       "\n",
       "                "
      ],
      "text/plain": [
       "<IPython.core.display.HTML object>"
      ]
     },
     "metadata": {},
     "output_type": "display_data"
    },
    {
     "name": "stderr",
     "output_type": "stream",
     "text": [
      "100%|██████████| 6334/6334 [13:29<00:00,  7.83it/s]\n"
     ]
    },
    {
     "data": {
      "text/html": [
       "<br/>Waiting for W&B process to finish, PID 45644... <strong style=\"color:green\">(success).</strong>"
      ],
      "text/plain": [
       "<IPython.core.display.HTML object>"
      ]
     },
     "metadata": {},
     "output_type": "display_data"
    },
    {
     "data": {
      "text/html": [
       "<style>\n",
       "    table.wandb td:nth-child(1) { padding: 0 10px; text-align: right }\n",
       "    .wandb-row { display: flex; flex-direction: row; flex-wrap: wrap; width: 100% }\n",
       "    .wandb-col { display: flex; flex-direction: column; flex-basis: 100%; flex: 1; padding: 10px; }\n",
       "    </style>\n",
       "<div class=\"wandb-row\"><div class=\"wandb-col\">\n",
       "</div><div class=\"wandb-col\">\n",
       "</div></div>\n",
       "Synced 5 W&B file(s), 0 media file(s), 6257 artifact file(s) and 0 other file(s)\n",
       "<br/>Synced <strong style=\"color:#cdcd00\">visualizing-table-view</strong>: <a href=\"https://wandb.ai/arunpandian7/covid-project/runs/1j7nyfht\" target=\"_blank\">https://wandb.ai/arunpandian7/covid-project/runs/1j7nyfht</a><br/>\n",
       "Find logs at: <code>./wandb/run-20220218_123758-1j7nyfht/logs</code><br/>\n"
      ],
      "text/plain": [
       "<IPython.core.display.HTML object>"
      ]
     },
     "metadata": {},
     "output_type": "display_data"
    }
   ],
   "source": [
    "run = wandb.init(project='covid-project', \n",
    "                 config={'competition': 'siim-fisabio-rsna', '_wandb_kernel': 'arunrk7'},\n",
    "                 job_type='visualize-everything',\n",
    "                 name=\"visualizing-table-view\")\n",
    "\n",
    "class_set = wandb.Classes([{'id': id, 'name': name} for id, name in class_id_to_label.items()])\n",
    "\n",
    "\n",
    "table = wandb.Table(columns=['ImageID', 'StudyInstanceUID', 'Radiogram', 'image-label', 'study-label',\n",
    "                             'Negative', 'Typical', 'Indeterminate', 'Atypical',\n",
    "                             'ori_dim0', 'ori_dim1', 'split'])\n",
    "\n",
    "# create an artifact for all the raw data\n",
    "viz_at = wandb.Artifact('eda', type=\"basic-eda\")\n",
    "\n",
    "for i in tqdm(range(len(train_image_df))):\n",
    "    row = train_image_df.loc[i]\n",
    "    # Load image\n",
    "    image = cv2.imread(row.path)\n",
    "    # Get bboxes\n",
    "    bboxes = get_bbox(row)\n",
    "    # Scale bounding boxes\n",
    "    scale_bboxes = scale_bbox(IMG_SIZE, row, bboxes)\n",
    "    # Get ground truth label\n",
    "    true_label = row.study_level\n",
    "    # Get image with bounding boxes\n",
    "    wandb_img = wandb_bbox(image, \n",
    "                           scale_bboxes, \n",
    "                           true_label, \n",
    "                           class_id_to_label,\n",
    "                           class_set)\n",
    "    \n",
    "    # Add info in the table as new row\n",
    "    table.add_data(row.id, row.StudyInstanceUID, wandb_img, row.image_level, row.study_level,\n",
    "                   row['Negative for Pneumonia'], row['Typical Appearance'], row['Indeterminate Appearance'], row['Atypical Appearance'],\n",
    "                   row.dim0, row.dim1, row.split)\n",
    "    \n",
    "    del row, wandb_img\n",
    "    _ = gc.collect()\n",
    "    \n",
    "# wandb.log({'radiogram_eda': table})\n",
    "viz_at.add(table, \"Radiogram EDA\")\n",
    "run.log_artifact(viz_at)\n",
    "run.finish()"
   ]
  },
  {
   "cell_type": "code",
   "execution_count": null,
   "metadata": {},
   "outputs": [],
   "source": []
  }
 ],
 "metadata": {
  "interpreter": {
   "hash": "ccd91115c8404bb678434fae41994e786aeea5f4fc55d1451eafb999f9de8944"
  },
  "kernelspec": {
   "display_name": "Python 3.8.11 ('.venv': poetry)",
   "language": "python",
   "name": "python3"
  },
  "language_info": {
   "codemirror_mode": {
    "name": "ipython",
    "version": 3
   },
   "file_extension": ".py",
   "mimetype": "text/x-python",
   "name": "python",
   "nbconvert_exporter": "python",
   "pygments_lexer": "ipython3",
   "version": "3.8.11"
  },
  "orig_nbformat": 4
 },
 "nbformat": 4,
 "nbformat_minor": 2
}
